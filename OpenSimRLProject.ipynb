{
 "cells": [
  {
   "cell_type": "markdown",
   "metadata": {},
   "source": [
    "# Open Sim RL Training\n",
    "#### Imports"
   ]
  },
  {
   "cell_type": "code",
   "execution_count": 10,
   "metadata": {},
   "outputs": [],
   "source": [
    "# Dependencies\n",
    "import numpy as np\n",
    "import tensorflow as tf\n",
    "# Environment\n",
    "from osim.env import L2RunEnv as ENV # rename environment to be used for training"
   ]
  },
  {
   "cell_type": "markdown",
   "metadata": {},
   "source": [
    "### Agent Class\n",
    "#### Imports"
   ]
  },
  {
   "cell_type": "code",
   "execution_count": 11,
   "metadata": {},
   "outputs": [],
   "source": [
    "import keras\n",
    "import keras.backend as K\n",
    "from keras.models import Sequential, Model\n",
    "from keras.layers import Dense, Activation, Flatten, Input, Concatenate\n",
    "from keras.optimizers import Adam\n",
    "\n",
    "from rl.processors import WhiteningNormalizerProcessor\n",
    "from rl.agents import DDPGAgent\n",
    "from rl.memory import SequentialMemory\n",
    "from rl.random import OrnsteinUhlenbeckProcess"
   ]
  },
  {
   "cell_type": "markdown",
   "metadata": {},
   "source": [
    "#### Class\n",
    "Reference: https://github.com/keras-rl/keras-rl/blob/master/examples/ddpg_mujoco.py"
   ]
  },
  {
   "cell_type": "code",
   "execution_count": 12,
   "metadata": {},
   "outputs": [],
   "source": [
    "class Agent:\n",
    "    def __init__(self,env):\n",
    "        nb_actions = env.action_space.shape[0]\n",
    "        \n",
    "        self.env = env\n",
    "        self.actor = self.build_actor(env)\n",
    "        self.critic, action_input = self.build_critic(env)\n",
    "        self.loss = self.build_loss()\n",
    "\n",
    "        self.memory = SequentialMemory(limit=100000, window_length=1)\n",
    "        self.random_process = OrnsteinUhlenbeckProcess(size=nb_actions, theta=.15, mu=0., sigma=.1)\n",
    "        self.agent = DDPGAgent(   nb_actions=nb_actions, actor=self.actor, \n",
    "                                  critic=self.critic, critic_action_input=action_input,\n",
    "                                  memory=self.memory, nb_steps_warmup_critic=1000, \n",
    "                                  nb_steps_warmup_actor=1000,\n",
    "                                  random_process=self.random_process, \n",
    "                                  gamma=.99, target_model_update=1e-3,\n",
    "                                  processor=WhiteningNormalizerProcessor()  )\n",
    "        self.agent.compile([Adam(lr=1e-4), Adam(lr=1e-3)], metrics=self.loss)\n",
    "\n",
    "    def build_loss(self):\n",
    "        return ['mse']\n",
    "\n",
    "    def build_actor(self,env):\n",
    "        nb_actions = env.action_space.shape[0]\n",
    "        actor = Sequential()\n",
    "        actor.add(Flatten(input_shape=(1,) + env.observation_space.shape))\n",
    "        actor.add(Dense(400))\n",
    "        actor.add(Activation('relu'))\n",
    "        actor.add(Dense(300))\n",
    "        actor.add(Activation('relu'))\n",
    "        actor.add(Dense(nb_actions,\n",
    "                        activation='tanh',\n",
    "                        kernel_constraint=  keras.constraints.min_max_norm(\n",
    "                                            min_value=0,\n",
    "                                            max_value=nb_actions,\n",
    "                                            axis=1) ) )\n",
    "        actor.summary()\n",
    "\n",
    "        inD = Input(shape=(1,) + env.observation_space.shape)\n",
    "        out = actor(inD)\n",
    "\n",
    "        return Model(inD,out)\n",
    "\n",
    "    def build_critic(self,env):\n",
    "        nb_actions = env.action_space.shape[0]\n",
    "        action_input = Input(shape=(nb_actions,), name='action_input')\n",
    "        observation_input = Input(shape=(1,) + env.observation_space.shape, name='observation_input')\n",
    "        flattened_observation = Flatten()(observation_input)\n",
    "        x = Dense(400)(flattened_observation)\n",
    "        x = Activation('relu')(x)\n",
    "        x = Concatenate()([x, action_input])\n",
    "        x = Dense(300)(x)\n",
    "        x = Activation('relu')(x)\n",
    "        x = Dense(1)(x)\n",
    "        x = Activation('linear')(x)\n",
    "\n",
    "        critic = Model(inputs=[action_input, observation_input], outputs=x)\n",
    "        critic.summary()\n",
    "\n",
    "        return critic, action_input\n",
    "    \n",
    "    def fit(self, **kwargs):\n",
    "        return self.agent.fit(self.env,**kwargs)\n",
    "    \n",
    "    def test(self, **kwargs):\n",
    "        return self.agent.test(self.env,**kwargs)\n",
    "    \n",
    "    def save_weights(self,filename='ddpg_{}_weights.h5f'):\n",
    "        self.agent.save_weights(filename.format(\"opensim\"), overwrite=True)\n",
    "        \n",
    "    def load_weights(self,filename='ddpg_{}_weights.h5f'):\n",
    "        self.agent.load_weights(filename.format(\"opensim\"))"
   ]
  },
  {
   "cell_type": "markdown",
   "metadata": {},
   "source": [
    "### Environment Class"
   ]
  },
  {
   "cell_type": "code",
   "execution_count": 13,
   "metadata": {},
   "outputs": [],
   "source": [
    "class TrainEnv(ENV):\n",
    "    pass\n",
    "# TODO: define virtual assistant forces on agent\n",
    "# TODO: define search through easier environments\n",
    "# TODO: make environment harder once the agent has trained for challenge"
   ]
  },
  {
   "cell_type": "markdown",
   "metadata": {},
   "source": [
    "# Run Simulation\n",
    "#### Environment"
   ]
  },
  {
   "cell_type": "code",
   "execution_count": 14,
   "metadata": {},
   "outputs": [
    {
     "name": "stdout",
     "output_type": "stream",
     "text": [
      "\u001b[33mWARN: gym.spaces.Box autodetected dtype as <class 'numpy.float32'>. Please provide explicit dtype.\u001b[0m\n",
      "\u001b[33mWARN: gym.spaces.Box autodetected dtype as <class 'numpy.float32'>. Please provide explicit dtype.\u001b[0m\n"
     ]
    },
    {
     "name": "stderr",
     "output_type": "stream",
     "text": [
      "/Users/quinn/gym/gym/__init__.py:22: UserWarning: DEPRECATION WARNING: to improve load times, gym no longer automatically loads gym.spaces. Please run \"import gym.spaces\" to load gym.spaces on your own. This warning will turn into an error in a future version of gym.\n",
      "  warnings.warn('DEPRECATION WARNING: to improve load times, gym no longer automatically loads gym.spaces. Please run \"import gym.spaces\" to load gym.spaces on your own. This warning will turn into an error in a future version of gym.')\n"
     ]
    }
   ],
   "source": [
    "env = TrainEnv(visualize=False)\n",
    "observation = env.reset( )"
   ]
  },
  {
   "cell_type": "markdown",
   "metadata": {},
   "source": [
    "#### Agent"
   ]
  },
  {
   "cell_type": "code",
   "execution_count": 15,
   "metadata": {},
   "outputs": [
    {
     "name": "stdout",
     "output_type": "stream",
     "text": [
      "_________________________________________________________________\n",
      "Layer (type)                 Output Shape              Param #   \n",
      "=================================================================\n",
      "flatten_2 (Flatten)          (None, 41)                0         \n",
      "_________________________________________________________________\n",
      "dense_3 (Dense)              (None, 400)               16800     \n",
      "_________________________________________________________________\n",
      "activation_3 (Activation)    (None, 400)               0         \n",
      "_________________________________________________________________\n",
      "dense_4 (Dense)              (None, 300)               120300    \n",
      "_________________________________________________________________\n",
      "activation_4 (Activation)    (None, 300)               0         \n",
      "_________________________________________________________________\n",
      "dense_5 (Dense)              (None, 18)                5418      \n",
      "=================================================================\n",
      "Total params: 142,518\n",
      "Trainable params: 142,518\n",
      "Non-trainable params: 0\n",
      "_________________________________________________________________\n",
      "__________________________________________________________________________________________________\n",
      "Layer (type)                    Output Shape         Param #     Connected to                     \n",
      "==================================================================================================\n",
      "observation_input (InputLayer)  (None, 1, 41)        0                                            \n",
      "__________________________________________________________________________________________________\n",
      "flatten_3 (Flatten)             (None, 41)           0           observation_input[0][0]          \n",
      "__________________________________________________________________________________________________\n",
      "dense_6 (Dense)                 (None, 400)          16800       flatten_3[0][0]                  \n",
      "__________________________________________________________________________________________________\n",
      "activation_5 (Activation)       (None, 400)          0           dense_6[0][0]                    \n",
      "__________________________________________________________________________________________________\n",
      "action_input (InputLayer)       (None, 18)           0                                            \n",
      "__________________________________________________________________________________________________\n",
      "concatenate_1 (Concatenate)     (None, 418)          0           activation_5[0][0]               \n",
      "                                                                 action_input[0][0]               \n",
      "__________________________________________________________________________________________________\n",
      "dense_7 (Dense)                 (None, 300)          125700      concatenate_1[0][0]              \n",
      "__________________________________________________________________________________________________\n",
      "activation_6 (Activation)       (None, 300)          0           dense_7[0][0]                    \n",
      "__________________________________________________________________________________________________\n",
      "dense_8 (Dense)                 (None, 1)            301         activation_6[0][0]               \n",
      "__________________________________________________________________________________________________\n",
      "activation_7 (Activation)       (None, 1)            0           dense_8[0][0]                    \n",
      "==================================================================================================\n",
      "Total params: 142,801\n",
      "Trainable params: 142,801\n",
      "Non-trainable params: 0\n",
      "__________________________________________________________________________________________________\n"
     ]
    }
   ],
   "source": [
    "agent = Agent(env)"
   ]
  },
  {
   "cell_type": "markdown",
   "metadata": {},
   "source": [
    "### Load previously trained weights"
   ]
  },
  {
   "cell_type": "code",
   "execution_count": 16,
   "metadata": {},
   "outputs": [],
   "source": [
    "agent.load_weights( )"
   ]
  },
  {
   "cell_type": "markdown",
   "metadata": {},
   "source": [
    "### Train new weights"
   ]
  },
  {
   "cell_type": "code",
   "execution_count": null,
   "metadata": {},
   "outputs": [
    {
     "name": "stdout",
     "output_type": "stream",
     "text": [
      "Training for 2000 steps ...\n",
      "   82/2000: episode: 1, duration: 8.452s, episode steps: 82, steps per second: 10, episode reward: 0.345, mean reward: 0.004 [0.001, 0.006], mean action: -0.100 [-0.895, 0.780], mean observation: -0.013 [-6.145, 5.816], loss: --, mean_squared_error: --, mean_q: --\n",
      "  220/2000: episode: 2, duration: 4.299s, episode steps: 138, steps per second: 32, episode reward: 0.528, mean reward: 0.004 [-0.000, 0.011], mean action: -0.056 [-0.888, 0.628], mean observation: 0.140 [-4.317, 6.370], loss: --, mean_squared_error: --, mean_q: --\n",
      "  349/2000: episode: 3, duration: 26.163s, episode steps: 129, steps per second: 5, episode reward: -0.539, mean reward: -0.004 [-0.011, 0.001], mean action: -0.036 [-0.817, 0.844], mean observation: 0.071 [-4.258, 4.407], loss: --, mean_squared_error: --, mean_q: --\n",
      "  444/2000: episode: 4, duration: 6.436s, episode steps: 95, steps per second: 15, episode reward: 0.330, mean reward: 0.003 [0.001, 0.007], mean action: -0.071 [-0.894, 0.625], mean observation: 0.016 [-6.046, 5.882], loss: --, mean_squared_error: --, mean_q: --\n",
      "  534/2000: episode: 5, duration: 6.775s, episode steps: 90, steps per second: 13, episode reward: 0.315, mean reward: 0.004 [0.001, 0.007], mean action: -0.072 [-0.846, 0.590], mean observation: 0.012 [-6.328, 6.036], loss: --, mean_squared_error: --, mean_q: --\n",
      "  617/2000: episode: 6, duration: 6.823s, episode steps: 83, steps per second: 12, episode reward: 0.273, mean reward: 0.003 [0.001, 0.007], mean action: -0.075 [-0.784, 0.605], mean observation: -0.005 [-6.020, 5.979], loss: --, mean_squared_error: --, mean_q: --\n",
      "  751/2000: episode: 7, duration: 3.517s, episode steps: 134, steps per second: 38, episode reward: 0.538, mean reward: 0.004 [0.001, 0.012], mean action: -0.017 [-1.092, 0.710], mean observation: 0.142 [-3.805, 5.314], loss: --, mean_squared_error: --, mean_q: --\n",
      "  889/2000: episode: 8, duration: 3.534s, episode steps: 138, steps per second: 39, episode reward: 0.551, mean reward: 0.004 [0.001, 0.015], mean action: -0.016 [-0.931, 0.695], mean observation: 0.141 [-3.745, 5.410], loss: --, mean_squared_error: --, mean_q: --\n",
      " 1027/2000: episode: 9, duration: 7.662s, episode steps: 138, steps per second: 18, episode reward: 0.413, mean reward: 0.003 [-0.006, 0.017], mean action: -0.073 [-1.032, 0.920], mean observation: 0.167 [-3.413, 5.118], loss: 0.029525, mean_squared_error: 0.059049, mean_q: 0.282023\n",
      " 1231/2000: episode: 10, duration: 601.437s, episode steps: 204, steps per second: 0, episode reward: 0.627, mean reward: 0.003 [-0.007, 0.012], mean action: 0.281 [-1.143, 1.141], mean observation: 0.114 [-9.787, 9.025], loss: 0.004078, mean_squared_error: 0.008155, mean_q: 0.346760\n",
      " 1438/2000: episode: 11, duration: 7.867s, episode steps: 207, steps per second: 26, episode reward: -0.889, mean reward: -0.004 [-0.021, 0.008], mean action: 0.481 [-1.218, 1.155], mean observation: 0.035 [-8.948, 12.225], loss: 0.004762, mean_squared_error: 0.009524, mean_q: 0.465538\n",
      " 1556/2000: episode: 12, duration: 4.638s, episode steps: 118, steps per second: 25, episode reward: -0.762, mean reward: -0.006 [-0.021, 0.010], mean action: 0.344 [-1.110, 1.187], mean observation: 0.013 [-13.922, 14.319], loss: 0.005987, mean_squared_error: 0.011975, mean_q: 0.545556\n",
      " 1674/2000: episode: 13, duration: 4.598s, episode steps: 118, steps per second: 26, episode reward: -0.769, mean reward: -0.007 [-0.021, 0.010], mean action: 0.337 [-1.089, 1.190], mean observation: 0.011 [-13.964, 14.313], loss: 0.002592, mean_squared_error: 0.005184, mean_q: 0.587086\n",
      " 1797/2000: episode: 14, duration: 4.296s, episode steps: 123, steps per second: 29, episode reward: -0.780, mean reward: -0.006 [-0.020, 0.010], mean action: 0.196 [-1.219, 1.173], mean observation: 0.016 [-16.364, 15.061], loss: 0.004007, mean_squared_error: 0.008014, mean_q: 0.634049\n",
      " 1934/2000: episode: 15, duration: 4.650s, episode steps: 137, steps per second: 29, episode reward: -0.803, mean reward: -0.006 [-0.020, 0.011], mean action: 0.012 [-1.174, 1.193], mean observation: 0.021 [-9.059, 11.272], loss: 0.002184, mean_squared_error: 0.004367, mean_q: 0.669437\n",
      "done, took 705.155 seconds\n",
      "Training for 2000 steps ...\n",
      "  126/2000: episode: 1, duration: 5.894s, episode steps: 126, steps per second: 21, episode reward: -0.763, mean reward: -0.006 [-0.021, 0.012], mean action: 0.327 [-1.087, 1.219], mean observation: 0.020 [-9.343, 11.401], loss: --, mean_squared_error: --, mean_q: --\n",
      "  253/2000: episode: 2, duration: 5.944s, episode steps: 127, steps per second: 21, episode reward: -0.779, mean reward: -0.006 [-0.021, 0.013], mean action: 0.303 [-1.259, 1.099], mean observation: 0.018 [-12.696, 14.653], loss: --, mean_squared_error: --, mean_q: --\n",
      "  380/2000: episode: 3, duration: 6.058s, episode steps: 127, steps per second: 21, episode reward: -0.771, mean reward: -0.006 [-0.021, 0.013], mean action: 0.334 [-1.167, 1.191], mean observation: 0.019 [-9.291, 10.627], loss: --, mean_squared_error: --, mean_q: --\n",
      "  506/2000: episode: 4, duration: 5.706s, episode steps: 126, steps per second: 22, episode reward: -0.778, mean reward: -0.006 [-0.021, 0.012], mean action: 0.317 [-1.142, 1.157], mean observation: 0.020 [-13.195, 14.534], loss: --, mean_squared_error: --, mean_q: --\n",
      "  633/2000: episode: 5, duration: 6.152s, episode steps: 127, steps per second: 21, episode reward: -0.780, mean reward: -0.006 [-0.021, 0.013], mean action: 0.315 [-1.157, 1.161], mean observation: 0.018 [-12.734, 14.376], loss: --, mean_squared_error: --, mean_q: --\n",
      "  759/2000: episode: 6, duration: 6.276s, episode steps: 126, steps per second: 20, episode reward: -0.769, mean reward: -0.006 [-0.021, 0.013], mean action: 0.329 [-1.175, 1.177], mean observation: 0.018 [-12.399, 12.133], loss: --, mean_squared_error: --, mean_q: --\n",
      "  886/2000: episode: 7, duration: 6.355s, episode steps: 127, steps per second: 20, episode reward: -0.778, mean reward: -0.006 [-0.021, 0.013], mean action: 0.336 [-1.077, 1.177], mean observation: 0.018 [-13.258, 14.458], loss: --, mean_squared_error: --, mean_q: --\n",
      " 1013/2000: episode: 8, duration: 7.380s, episode steps: 127, steps per second: 17, episode reward: -0.769, mean reward: -0.006 [-0.020, 0.013], mean action: 0.332 [-1.119, 1.189], mean observation: 0.018 [-14.455, 11.558], loss: 0.002811, mean_squared_error: 0.005622, mean_q: 0.688281\n",
      " 1142/2000: episode: 9, duration: 7.255s, episode steps: 129, steps per second: 18, episode reward: -0.769, mean reward: -0.006 [-0.020, 0.012], mean action: 0.277 [-1.226, 1.217], mean observation: 0.017 [-10.399, 12.711], loss: 0.004091, mean_squared_error: 0.008182, mean_q: 0.662536\n",
      " 1269/2000: episode: 10, duration: 6.545s, episode steps: 127, steps per second: 19, episode reward: -0.777, mean reward: -0.006 [-0.020, 0.011], mean action: 0.287 [-1.211, 1.182], mean observation: 0.019 [-9.928, 11.049], loss: 0.002007, mean_squared_error: 0.004015, mean_q: 0.683649\n",
      " 1397/2000: episode: 11, duration: 6.915s, episode steps: 128, steps per second: 19, episode reward: -0.777, mean reward: -0.006 [-0.021, 0.011], mean action: 0.276 [-1.205, 1.317], mean observation: 0.016 [-9.327, 10.502], loss: 0.001853, mean_squared_error: 0.003705, mean_q: 0.699201\n",
      " 1523/2000: episode: 12, duration: 6.325s, episode steps: 126, steps per second: 20, episode reward: -0.765, mean reward: -0.006 [-0.020, 0.012], mean action: 0.319 [-1.123, 1.185], mean observation: 0.018 [-8.929, 10.798], loss: 0.001847, mean_squared_error: 0.003693, mean_q: 0.717578\n"
     ]
    }
   ],
   "source": [
    "for i in range(200): # Train in smaller batches to allow for interuption\n",
    "    agent.fit(nb_steps=2000, visualize=False, verbose=2)\n",
    "    ## Always save new weights\n",
    "    agent.save_weights( )"
   ]
  },
  {
   "cell_type": "markdown",
   "metadata": {},
   "source": [
    "### Test Agent"
   ]
  },
  {
   "cell_type": "code",
   "execution_count": null,
   "metadata": {},
   "outputs": [],
   "source": [
    "# Finally, evaluate our algorithm for 5 episodes.\n",
    "agent.test(nb_episodes=5, visualize=True, nb_max_episode_steps=1000)"
   ]
  },
  {
   "cell_type": "code",
   "execution_count": null,
   "metadata": {},
   "outputs": [],
   "source": []
  }
 ],
 "metadata": {
  "kernelspec": {
   "display_name": "Python 3",
   "language": "python",
   "name": "python3"
  },
  "language_info": {
   "codemirror_mode": {
    "name": "ipython",
    "version": 3
   },
   "file_extension": ".py",
   "mimetype": "text/x-python",
   "name": "python",
   "nbconvert_exporter": "python",
   "pygments_lexer": "ipython3",
   "version": "3.6.1"
  }
 },
 "nbformat": 4,
 "nbformat_minor": 2
}
